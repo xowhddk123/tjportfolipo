{
 "cells": [
  {
   "cell_type": "markdown",
   "metadata": {},
   "source": [
    "# PAPER REVIEW AND IMPLEMENTATION"
   ]
  },
  {
   "cell_type": "markdown",
   "metadata": {},
   "source": [
    "## VGGnet"
   ]
  },
  {
   "cell_type": "code",
   "execution_count": 6,
   "metadata": {},
   "outputs": [],
   "source": [
    "import torch \n",
    "from torch import nn\n",
    "import torchvision \n",
    "import torchvision.transforms as transforms\n",
    "from torchinfo import summary\n",
    "\n",
    "import matplotlib.pyplot as plt\n",
    "import numpy as np"
   ]
  },
  {
   "cell_type": "markdown",
   "metadata": {},
   "source": [
    "### Data"
   ]
  },
  {
   "cell_type": "code",
   "execution_count": 7,
   "metadata": {},
   "outputs": [
    {
     "name": "stdout",
     "output_type": "stream",
     "text": [
      "Files already downloaded and verified\n",
      "Files already downloaded and verified\n"
     ]
    }
   ],
   "source": [
    "transform = transforms.Compose(\n",
    "    [transforms.ToTensor(),  # 원래 이미지는 HxWxC 이지만, ToTensor를 사용하면 CxHxW로 변환된다.\n",
    "     transforms.Normalize((0.5,0.5,0.5),(0.5,0.5,0.5))] # 3개의 채널에 대해 각각 mean, std를 설정해준다. 0~255 -> -1~1 0.5를 기준으로 정규분포\n",
    ")\n",
    "\n",
    "trainset = torchvision.datasets.CIFAR10(root='./data', train=True, download=True, transform=None)\n",
    "\n",
    "trainloader = torch.utils.data.DataLoader(trainset, batch_size=4, shuffle=True, num_workers=2)\n",
    "\n",
    "testset = torchvision.datasets.CIFAR10(root='./data', train=False, download=True, transform=None)\n",
    "testloader = torch.utils.data.DataLoader(testset, batch_size=4, shuffle=False, num_workers=2)\n",
    "\n",
    "classes = ('plane','car','bird','cat','deer','dog','frog','horse','ship','truck')\n"
   ]
  },
  {
   "cell_type": "markdown",
   "metadata": {},
   "source": [
    "### Parameter"
   ]
  },
  {
   "cell_type": "code",
   "execution_count": 8,
   "metadata": {},
   "outputs": [],
   "source": [
    "cfgs = { \"A\": [64, \"M\", 128, \"M\", 256, 256, \"M\", 512, 512, \"M\", 512, 512, \"M\"],\n",
    "         \"B\": [64, 64, \"M\", 128, 128, \"M\", 256, 256, \"M\", 512, 512, \"M\", 512, 512, \"M\"],\n",
    "         \"D\": [64, 64, \"M\", 128, 128, \"M\", 256, 256, 256, \"M\", 512, 512, 512, \"M\", 512, 512, 512, \"M\"],\n",
    "         \"E\": [64, 64, \"M\", 128, 128, \"M\", 256, 256, 256, 256, \"M\", 512, 512, 512, 512, \"M\", 512, 512, 512, 512, \"M\"] }"
   ]
  },
  {
   "cell_type": "markdown",
   "metadata": {},
   "source": [
    "### Model"
   ]
  },
  {
   "cell_type": "code",
   "execution_count": 11,
   "metadata": {},
   "outputs": [],
   "source": [
    "class VGG(nn.Module):\n",
    "    def __init__(self, cfg, batch_norm, num_class=1000, init_weights = True, drop_p = 0.5):\n",
    "        super().__init__() # nn.module 상속\n",
    "    \n",
    "        self.features = self.make_layers(cfg, batch_norm)\n",
    "        self.avgpool = nn.AdaptiveAvgPool2d((7,7)) # avgpooling 인데 그냥 적응형으로 intput에 상관 없이 output size를 7x7로 만들어줌\n",
    "        self.classifier = nn.Sequential(\n",
    "            nn.Linear(512*7*7, 4096),\n",
    "            nn.ReLU(),\n",
    "            nn.Dropout(drop_p),\n",
    "            nn.Linear(4096, 4096),\n",
    "            nn.ReLU(),\n",
    "            nn.Dropout(drop_p),\n",
    "            nn.Linear(4096, num_class)\n",
    "        )\n",
    "        \n",
    "        if init_weights:\n",
    "            for m in self.modules():\n",
    "                if isinstance(m, nn.Conv2d):\n",
    "                    nn.init.kaiming_normal_(m.weight, mode = 'fan_out', nonlinearity = 'relu')\n",
    "                    if m.bias is not None:\n",
    "                        nn.init.constant_(m.bias, 0)\n",
    "                    elif isinstance(m, nn.Linear):\n",
    "                        nn.init.normal_(m.weight, 0, 0.01)\n",
    "                        nn.init.constant_(m.bias, 0)\n",
    "                        \n",
    "    def forward(self, x):\n",
    "        x = self.features(x)  # feature map 추출\n",
    "        x = self.avgpool(x)   # avgpooling\n",
    "        x = torch.flatten(x, 1)  # 1차원으로 펴줌\n",
    "        x = self.classifier(x)  # fc layer\n",
    "        return x\n",
    "    \n",
    "    def make_layers(self, cfg, batch_norm = False):\n",
    "        layers = []\n",
    "        in_channels = 3\n",
    "        for v in cfg:\n",
    "            if type(v) == int:\n",
    "                if batch_norm:\n",
    "                    layers += [nn.Conv2d(in_channels, v, 3, padding=1),\n",
    "                               nn.BatchNorm2d(v),\n",
    "                               nn.ReLU()]\n",
    "                else:\n",
    "                    layers += [nn.Conv2d(in_channels, v, 3, padding=1), \n",
    "                               nn.ReLU()]\n",
    "                in_channels = v\n",
    "            else:\n",
    "                layers += [nn.MaxPool2d(2,2)]\n",
    "        return nn.Sequential(*layers)"
   ]
  },
  {
   "cell_type": "code",
   "execution_count": 12,
   "metadata": {},
   "outputs": [
    {
     "data": {
      "text/plain": [
       "==========================================================================================\n",
       "Layer (type:depth-idx)                   Output Shape              Param #\n",
       "==========================================================================================\n",
       "VGG                                      [2, 1000]                 --\n",
       "├─Sequential: 1-1                        [2, 512, 7, 7]            --\n",
       "│    └─Conv2d: 2-1                       [2, 64, 224, 224]         1,792\n",
       "│    └─ReLU: 2-2                         [2, 64, 224, 224]         --\n",
       "│    └─Conv2d: 2-3                       [2, 64, 224, 224]         36,928\n",
       "│    └─ReLU: 2-4                         [2, 64, 224, 224]         --\n",
       "│    └─MaxPool2d: 2-5                    [2, 64, 112, 112]         --\n",
       "│    └─Conv2d: 2-6                       [2, 128, 112, 112]        73,856\n",
       "│    └─ReLU: 2-7                         [2, 128, 112, 112]        --\n",
       "│    └─Conv2d: 2-8                       [2, 128, 112, 112]        147,584\n",
       "│    └─ReLU: 2-9                         [2, 128, 112, 112]        --\n",
       "│    └─MaxPool2d: 2-10                   [2, 128, 56, 56]          --\n",
       "│    └─Conv2d: 2-11                      [2, 256, 56, 56]          295,168\n",
       "│    └─ReLU: 2-12                        [2, 256, 56, 56]          --\n",
       "│    └─Conv2d: 2-13                      [2, 256, 56, 56]          590,080\n",
       "│    └─ReLU: 2-14                        [2, 256, 56, 56]          --\n",
       "│    └─Conv2d: 2-15                      [2, 256, 56, 56]          590,080\n",
       "│    └─ReLU: 2-16                        [2, 256, 56, 56]          --\n",
       "│    └─Conv2d: 2-17                      [2, 256, 56, 56]          590,080\n",
       "│    └─ReLU: 2-18                        [2, 256, 56, 56]          --\n",
       "│    └─MaxPool2d: 2-19                   [2, 256, 28, 28]          --\n",
       "│    └─Conv2d: 2-20                      [2, 512, 28, 28]          1,180,160\n",
       "│    └─ReLU: 2-21                        [2, 512, 28, 28]          --\n",
       "│    └─Conv2d: 2-22                      [2, 512, 28, 28]          2,359,808\n",
       "│    └─ReLU: 2-23                        [2, 512, 28, 28]          --\n",
       "│    └─Conv2d: 2-24                      [2, 512, 28, 28]          2,359,808\n",
       "│    └─ReLU: 2-25                        [2, 512, 28, 28]          --\n",
       "│    └─Conv2d: 2-26                      [2, 512, 28, 28]          2,359,808\n",
       "│    └─ReLU: 2-27                        [2, 512, 28, 28]          --\n",
       "│    └─MaxPool2d: 2-28                   [2, 512, 14, 14]          --\n",
       "│    └─Conv2d: 2-29                      [2, 512, 14, 14]          2,359,808\n",
       "│    └─ReLU: 2-30                        [2, 512, 14, 14]          --\n",
       "│    └─Conv2d: 2-31                      [2, 512, 14, 14]          2,359,808\n",
       "│    └─ReLU: 2-32                        [2, 512, 14, 14]          --\n",
       "│    └─Conv2d: 2-33                      [2, 512, 14, 14]          2,359,808\n",
       "│    └─ReLU: 2-34                        [2, 512, 14, 14]          --\n",
       "│    └─Conv2d: 2-35                      [2, 512, 14, 14]          2,359,808\n",
       "│    └─ReLU: 2-36                        [2, 512, 14, 14]          --\n",
       "│    └─MaxPool2d: 2-37                   [2, 512, 7, 7]            --\n",
       "├─AdaptiveAvgPool2d: 1-2                 [2, 512, 7, 7]            --\n",
       "├─Sequential: 1-3                        [2, 1000]                 --\n",
       "│    └─Linear: 2-38                      [2, 4096]                 102,764,544\n",
       "│    └─ReLU: 2-39                        [2, 4096]                 --\n",
       "│    └─Dropout: 2-40                     [2, 4096]                 --\n",
       "│    └─Linear: 2-41                      [2, 4096]                 16,781,312\n",
       "│    └─ReLU: 2-42                        [2, 4096]                 --\n",
       "│    └─Dropout: 2-43                     [2, 4096]                 --\n",
       "│    └─Linear: 2-44                      [2, 1000]                 4,097,000\n",
       "==========================================================================================\n",
       "Total params: 143,667,240\n",
       "Trainable params: 143,667,240\n",
       "Non-trainable params: 0\n",
       "Total mult-adds (G): 39.29\n",
       "==========================================================================================\n",
       "Input size (MB): 1.20\n",
       "Forward/backward pass size (MB): 237.78\n",
       "Params size (MB): 574.67\n",
       "Estimated Total Size (MB): 813.65\n",
       "=========================================================================================="
      ]
     },
     "execution_count": 12,
     "metadata": {},
     "output_type": "execute_result"
    }
   ],
   "source": [
    "model = VGG(cfgs[\"E\"], batch_norm=False)\n",
    "\n",
    "summary(model, input_size=(2,3,224,224), device='cpu')"
   ]
  },
  {
   "cell_type": "markdown",
   "metadata": {},
   "source": [
    "### Train"
   ]
  },
  {
   "cell_type": "markdown",
   "metadata": {},
   "source": []
  }
 ],
 "metadata": {
  "kernelspec": {
   "display_name": "implementation",
   "language": "python",
   "name": "python3"
  },
  "language_info": {
   "codemirror_mode": {
    "name": "ipython",
    "version": 3
   },
   "file_extension": ".py",
   "mimetype": "text/x-python",
   "name": "python",
   "nbconvert_exporter": "python",
   "pygments_lexer": "ipython3",
   "version": "3.10.9"
  },
  "orig_nbformat": 4
 },
 "nbformat": 4,
 "nbformat_minor": 2
}
